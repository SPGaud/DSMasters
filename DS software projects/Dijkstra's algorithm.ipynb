{
 "cells": [
  {
   "cell_type": "markdown",
   "metadata": {},
   "source": [
    "# Dijkstra's algorithm"
   ]
  },
  {
   "cell_type": "markdown",
   "metadata": {},
   "source": [
    "This workbook implements Dijkstra's algorithm to calculate the shortest path between nodes"
   ]
  },
  {
   "cell_type": "code",
   "execution_count": 2,
   "metadata": {},
   "outputs": [],
   "source": [
    "import numpy as np\n",
    "\n",
    "# create graph network class\n",
    "class GraphNetwork():\n",
    "\n",
    "    def __init__(self, graph_dict=None):\n",
    "        #create dictionary if doesnt exist\n",
    "        \n",
    "        if graph_dict == None:\n",
    "            graph_dict = {}\n",
    "        self.__graph_dict = graph_dict\n",
    "    \n",
    "    def viewNodes(self):\n",
    "        #views the nodes\n",
    "        \n",
    "        return self.__graph_dict.keys()\n",
    "    \n",
    "    def viewGraph(self):\n",
    "        #views the complete graph\n",
    "        \n",
    "        return self.__graph_dict\n",
    "\n",
    "    def addNode(self, node):\n",
    "        #adds node if none exist\n",
    "        \n",
    "        if node not in self.__graph_dict:\n",
    "            self.__graph_dict[node] = []\n",
    "    \n",
    "    def connectNodes(self, connectedNode):\n",
    "       #connects the nodes in the dictionary\n",
    "    \n",
    "        for node, connections in connectedNode.items():\n",
    "            for connecNode in connections:\n",
    "              \n",
    "                if node not in self.__graph_dict.keys():\n",
    "                    self.addNode(node)\n",
    "                    self.__graph_dict[node].append(connecNode)\n",
    "                else:\n",
    "                    self.__graph_dict[node].append(connecNode)\n",
    "                                \n",
    "                #connectons\n",
    "                if connecNode not in self.__graph_dict.keys():\n",
    "                    self.addNode(connecNode)\n",
    "                    self.__graph_dict[connecNode].append(node)\n",
    "                else:\n",
    "                    self.__graph_dict[connecNode].append(node)\n",
    "            \n",
    "\n",
    "\n",
    "    def find_path(self, strtNode, endNode, path = None):\n",
    "        #finds all paths from start to end node\n",
    "        \n",
    "        if path == None:\n",
    "            path = []\n",
    "        graph = self.__graph_dict\n",
    "        path = path + [strtNode]\n",
    "        if strtNode == endNode:\n",
    "            return path\n",
    "        if strtNode not in graph.keys():\n",
    "            return None\n",
    "        validPaths = []\n",
    "        for node in graph[strtNode]:\n",
    "            if node not in path:\n",
    "                tryPath = self.find_path(node,endNode,path)                                  \n",
    "                if tryPath!=None:\n",
    "                    if endNode in tryPath:\n",
    "                        validPaths += tryPath\n",
    "\n",
    "        if validPaths == []:\n",
    "            return None\n",
    "    \n",
    "        return validPaths\n",
    "\n",
    "    def shortestPaths(self,strtNode, endNode):\n",
    "        #find path with shortest length\n",
    "        \n",
    "        validPaths = self.find_path(strtNode, endNode)\n",
    "        if validPaths==None:\n",
    "            return None\n",
    "        else:\n",
    "            Path = []\n",
    "            PathList = []\n",
    "            for Node in validPaths:\n",
    "                if Node == endNode:\n",
    "                    Path.append(Node)\n",
    "                    PathList.append(Path)\n",
    "                    Path = []\n",
    "                else:\n",
    "                    Path.append(Node)\n",
    "            pathLength = np.inf\n",
    "            paths = []\n",
    "            #find the shortest paths in all paths\n",
    "            for paths in PathList:\n",
    "                if len(paths) < pathLength:\n",
    "                    shortestPath = paths\n",
    "                    pathLength = len(paths)\n",
    "            return shortestPath, PathList\n",
    "        \n",
    "    def shortestWeights(self, weightings, strtNode, endNode):\n",
    "        #find path with smallest weighting\n",
    "        \n",
    "        _, allPaths = self.shortestPaths(strtNode,endNode) \n",
    "\n",
    "        pathNum = 0\n",
    "        #i = 0\n",
    "        pathWeighDict = {}\n",
    "        \n",
    "        for path in allPaths:\n",
    "            pathWeight = 0\n",
    "            #print(path)\n",
    "            for i in range(0,len(path)-1):\n",
    "                j = i + 1\n",
    "                index = (path[i],path[j])\n",
    "                if index in weightings.keys():\n",
    "                    pathWeight+= weightings[index]\n",
    "                else:\n",
    "                    index = (path[j],path[i])\n",
    "                    pathWeight+= weightings[index]\n",
    "            \n",
    "            #build dict of weightings\n",
    "            \n",
    "            pathWeighDict[pathNum] = pathWeight\n",
    "            pathNum += 1\n",
    "        \n",
    "            #find shortest value of weights\n",
    "            min_value = min(pathWeighDict.values())\n",
    "            min_key = [k for k in pathWeighDict if pathWeighDict[k] == min_value]\n",
    "            min_key = min_key[0]\n",
    "        \n",
    "        return allPaths[min_key]\n",
    "    \n",
    "    def disconnectNode(self, node1, node2):\n",
    "        #disconnect nodes\n",
    "        \n",
    "        self.__graph_dict[node1].remove(node2)\n",
    "        self.__graph_dict[node2].remove(node1)\n",
    "        \n",
    "    def findNetwords(self):\n",
    "        #find all networks in graph\n",
    "        \n",
    "        Nodes = list(self.viewNodes())\n",
    "        networkList = []\n",
    "        networkDict = {}\n",
    "        \n",
    "        #calculate all networks\n",
    "        for strtNode in Nodes:\n",
    "            Network = [strtNode]\n",
    "            for endNode in Nodes:\n",
    "                if strtNode != endNode:\n",
    "                    path = self.find_path(strtNode, endNode)\n",
    "                    if path != None:\n",
    "                        Network.append(endNode)\n",
    "            networkDict[strtNode] = Network\n",
    "            networkList.append(Network)\n",
    "        \n",
    "        #sort networks to match\n",
    "        sortedNetwork = []\n",
    "        for i in networkList:\n",
    "            sortedNetwork.append(sorted(i))\n",
    "        \n",
    "        #return unique networks\n",
    "        uniqueNetworks = [list(x) for x in set(tuple(x) for x in sortedNetwork)]\n",
    "\n",
    "        \n",
    "        return uniqueNetworks"
   ]
  },
  {
   "cell_type": "code",
   "execution_count": 3,
   "metadata": {},
   "outputs": [],
   "source": [
    "#create graph object\n",
    "graph = GraphNetwork()"
   ]
  },
  {
   "cell_type": "code",
   "execution_count": 4,
   "metadata": {},
   "outputs": [],
   "source": [
    "#create connections between nodes on the graph\n",
    "\n",
    "graph.connectNodes({1:[2, 3]})\n",
    "graph.connectNodes({2:[5, 4]})\n",
    "graph.connectNodes({3:[4]})\n",
    "graph.connectNodes({4:[5]})\n",
    "graph.connectNodes({6:[8]})\n",
    "graph.connectNodes({7:[5]})\n"
   ]
  },
  {
   "cell_type": "code",
   "execution_count": 6,
   "metadata": {},
   "outputs": [
    {
     "name": "stdout",
     "output_type": "stream",
     "text": [
      "{1: [2, 3], 2: [1, 5, 4], 3: [1, 4], 5: [2, 4, 7], 4: [2, 3, 5], 6: [8], 8: [6], 7: [5]}\n"
     ]
    }
   ],
   "source": [
    "# view graph and see all connections to each node\n",
    "print(graph.viewGraph())"
   ]
  },
  {
   "cell_type": "code",
   "execution_count": 7,
   "metadata": {},
   "outputs": [
    {
     "name": "stdout",
     "output_type": "stream",
     "text": [
      "[1, 2, 5, 7]\n"
     ]
    }
   ],
   "source": [
    "# find shortest path from 1 to 7\n",
    "shortestPath, _ = graph.shortestPaths(1,7)\n",
    "\n",
    "print(shortestPath)"
   ]
  },
  {
   "cell_type": "markdown",
   "metadata": {},
   "source": [
    "# Add weightings to the nodes"
   ]
  },
  {
   "cell_type": "code",
   "execution_count": 8,
   "metadata": {},
   "outputs": [],
   "source": [
    "weightings = {(1,2):6,(1,3):6,(2,5):16,(2,4):11,(3,4):2,(4,5):3,(6,8):9,(7,5):2}"
   ]
  },
  {
   "cell_type": "code",
   "execution_count": 9,
   "metadata": {},
   "outputs": [],
   "source": [
    "# print shortest path of weights from 1 to 7"
   ]
  },
  {
   "cell_type": "code",
   "execution_count": 10,
   "metadata": {},
   "outputs": [
    {
     "data": {
      "text/plain": [
       "[1, 3, 4, 5, 7]"
      ]
     },
     "execution_count": 10,
     "metadata": {},
     "output_type": "execute_result"
    }
   ],
   "source": [
    "graph.shortestWeights(weightings,1,7)"
   ]
  },
  {
   "cell_type": "markdown",
   "metadata": {},
   "source": [
    "# find groupings of nodes which can be connected to each other"
   ]
  },
  {
   "cell_type": "code",
   "execution_count": 11,
   "metadata": {},
   "outputs": [],
   "source": [
    "#create new graph and add Nodes\n",
    "\n",
    "graph2 = GraphNetwork()\n",
    "\n",
    "graph2.connectNodes({1:[2, 3]})\n",
    "graph2.connectNodes({2:[4]})\n",
    "graph2.connectNodes({3:[4]})\n",
    "graph2.connectNodes({4:[5]})\n",
    "graph2.connectNodes({5:[7]})\n",
    "graph2.connectNodes({6:[8,7]})\n"
   ]
  },
  {
   "cell_type": "code",
   "execution_count": 12,
   "metadata": {},
   "outputs": [],
   "source": [
    "#disconnect some nodes so graph is not connected\n",
    "\n",
    "graph2.disconnectNode(5,7)\n",
    "graph2.disconnectNode(1,3)"
   ]
  },
  {
   "cell_type": "code",
   "execution_count": 15,
   "metadata": {},
   "outputs": [],
   "source": [
    "#find all networks\n",
    "\n",
    "Networks = graph2.findNetwords()"
   ]
  },
  {
   "cell_type": "code",
   "execution_count": 16,
   "metadata": {},
   "outputs": [
    {
     "name": "stdout",
     "output_type": "stream",
     "text": [
      "[[1, 2, 3, 4, 5], [6, 7, 8]]\n"
     ]
    }
   ],
   "source": [
    "#print all networks of the graph\n",
    "\n",
    "print(Networks)"
   ]
  }
 ],
 "metadata": {
  "kernelspec": {
   "display_name": "Python 3",
   "language": "python",
   "name": "python3"
  },
  "language_info": {
   "codemirror_mode": {
    "name": "ipython",
    "version": 3
   },
   "file_extension": ".py",
   "mimetype": "text/x-python",
   "name": "python",
   "nbconvert_exporter": "python",
   "pygments_lexer": "ipython3",
   "version": "3.7.7"
  }
 },
 "nbformat": 4,
 "nbformat_minor": 2
}
