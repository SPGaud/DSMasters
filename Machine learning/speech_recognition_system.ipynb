{
 "cells": [
  {
   "cell_type": "markdown",
   "metadata": {
    "colab": {
     "base_uri": "https://localhost:8080/",
     "height": 34
    },
    "colab_type": "code",
    "id": "FoWU2jAPNNQ2",
    "outputId": "7eb5cbab-58d5-48da-d2ae-887cc1f7c142"
   },
   "source": [
    "# Speech recognition"
   ]
  },
  {
   "cell_type": "markdown",
   "metadata": {},
   "source": [
    "The purpose of this assignment is to build a speech classifier in tensorflow to classify 30 different words. The data is downloaded from http://download.tensorflow.org/data/speech_commands_v0.01.tar.gz. We will use our classifier to classify 30 words. The data consists of 65,000 one-second long words produced by thousands of different people. The words to sort are given below\n",
    "['bed', 'bird', 'cat', 'dog', 'down', 'eight', 'five', 'four', 'go', 'happy', 'house', 'left', 'marvin', 'nine', 'no', 'off', 'on', 'one', 'right', 'seven', 'sheila', 'six', 'stop', 'three', 'tree', 'two', 'up', 'wow', 'yes', 'zero']\n"
   ]
  },
  {
   "cell_type": "code",
   "execution_count": 50,
   "metadata": {},
   "outputs": [],
   "source": [
    "from scipy.io import wavfile\n",
    "import os\n",
    "import glob\n",
    "import numpy as np\n",
    "from scipy import fft #discrete fourier transform\n",
    "from scipy import signal\n",
    "import matplotlib.pyplot as plt\n",
    "import librosa\n",
    "import librosa.display\n",
    "import tensorflow as tf\n",
    "import keras\n",
    "from tensorflow.contrib.rnn import BasicLSTMCell, DropoutWrapper, MultiRNNCell, GRUCell\n",
    "import sys"
   ]
  },
  {
   "cell_type": "code",
   "execution_count": 3,
   "metadata": {
    "colab": {},
    "colab_type": "code",
    "id": "8H_U_DhiNNQ4"
   },
   "outputs": [],
   "source": [
    "# loop through all folders and get sounds\n",
    "path=\"...//audio\"\n",
    "# list of all the sounds\n",
    "sounds = [sound for sound in os.listdir(path) if '_' not in sound and '.' not in sound and sound.lower()==sound]\n",
    "\n",
    "expected_samples = 16000"
   ]
  },
  {
   "cell_type": "code",
   "execution_count": 4,
   "metadata": {},
   "outputs": [
    {
     "data": {
      "text/plain": [
       "['bed',\n",
       " 'bird',\n",
       " 'cat',\n",
       " 'dog',\n",
       " 'down',\n",
       " 'eight',\n",
       " 'five',\n",
       " 'four',\n",
       " 'go',\n",
       " 'happy',\n",
       " 'house',\n",
       " 'left',\n",
       " 'marvin',\n",
       " 'nine',\n",
       " 'no',\n",
       " 'off',\n",
       " 'on',\n",
       " 'one',\n",
       " 'right',\n",
       " 'seven',\n",
       " 'sheila',\n",
       " 'six',\n",
       " 'stop',\n",
       " 'three',\n",
       " 'tree',\n",
       " 'two',\n",
       " 'up',\n",
       " 'wow',\n",
       " 'yes',\n",
       " 'zero']"
      ]
     },
     "execution_count": 4,
     "metadata": {},
     "output_type": "execute_result"
    }
   ],
   "source": [
    "sounds"
   ]
  },
  {
   "cell_type": "markdown",
   "metadata": {},
   "source": [
    "So the first thing we need to do is sample the audio wave to represent it as a wave form. We will be sampling the audio waves at 16 k hz, this means we take 16,000 samples per second. Since each clip is 1 second long we want to create an array 16,000 samples for each sound clip. We will get the amplitude values against time for each sound file. We will also create a corresponding y variable which stores the integer sound label."
   ]
  },
  {
   "cell_type": "code",
   "execution_count": 5,
   "metadata": {
    "colab": {
     "base_uri": "https://localhost:8080/",
     "height": 34
    },
    "colab_type": "code",
    "id": "-tJRVT0xNNQ6",
    "outputId": "709b3b27-c261-409a-f2fb-b01d03f85d52"
   },
   "outputs": [],
   "source": [
    "# get amplitudes using wavfile\n",
    "audiodat = []\n",
    "y = []\n",
    "\n",
    "# loop through sounds\n",
    "for i, sound in enumerate(sounds):    \n",
    "    for wav_file in glob.glob(\"{}/{}/*.wav\".format(path,sound)):\n",
    "        wav = wavfile.read(wav_file)[1]\n",
    "        audiodat.append(wav)\n",
    "        y.append(i)\n",
    "            \n"
   ]
  },
  {
   "cell_type": "markdown",
   "metadata": {},
   "source": [
    "Next we will pad sounds that have less than 16000 samples with zeros so the data has the same shape. "
   ]
  },
  {
   "cell_type": "code",
   "execution_count": 14,
   "metadata": {},
   "outputs": [
    {
     "data": {
      "text/plain": [
       "((64721, 16000), (64721, 30))"
      ]
     },
     "execution_count": 14,
     "metadata": {},
     "output_type": "execute_result"
    }
   ],
   "source": [
    "# if files have less than 1600 samples need pad them with zeros\n",
    "\n",
    "for j in np.where(np.array(list(map(len, audiodat))) != 16000)[0]:\n",
    "    audiodat[j] = np.append(np.zeros(expected_samples - len(audiodat[j]),dtype=np.int16), audiodat[j])\n",
    "\n",
    "audiodat = np.vstack(audiodat).astype(np.float16)\n",
    "y = np.array(y)\n",
    "\n",
    "# make y one hot encoded\n",
    "Y = 1 * (y[:, None] == np.unique(y))\n",
    "\n",
    "audiodat.shape, Y.shape"
   ]
  },
  {
   "cell_type": "markdown",
   "metadata": {},
   "source": [
    "shuffle data and create training and test set"
   ]
  },
  {
   "cell_type": "code",
   "execution_count": 17,
   "metadata": {
    "colab": {},
    "colab_type": "code",
    "id": "XUk5AQTsco3q"
   },
   "outputs": [],
   "source": [
    "np.random.seed(10)\n",
    "idx = np.random.permutation(range(len(audiodat)))\n",
    "split = int(0.7*len(audiodat))\n",
    "\n",
    "x_train  = audiodat[idx][:split]\n",
    "y_train  = Y[idx][:split]\n",
    "\n",
    "x_test   = audiodat[idx][split:]\n",
    "y_test   = Y[idx][split:]\n",
    "\n",
    "# create mapping between integer y and actual sound label\n",
    "sound_labels = list(map(lambda x: sounds[x], y[idx]))"
   ]
  },
  {
   "cell_type": "code",
   "execution_count": 19,
   "metadata": {
    "colab": {
     "base_uri": "https://localhost:8080/",
     "height": 34
    },
    "colab_type": "code",
    "id": "LDm1lPx_aoBX",
    "outputId": "173a4edc-3c85-416c-8830-2c289fc87c87"
   },
   "outputs": [],
   "source": [
    "# list(map(lambda x: x.shape, [x_train, y_train, x_test, y_test]))"
   ]
  },
  {
   "cell_type": "markdown",
   "metadata": {},
   "source": [
    "Next we will create the plot_wave function which plot amplitude values against time for a sound file. The Nyquist theory suggests we can disregard all frequencies greater than the sampling frequency / 2 which is 8000"
   ]
  },
  {
   "cell_type": "code",
   "execution_count": 26,
   "metadata": {},
   "outputs": [],
   "source": [
    "def plot_wave(audio_sample, sound_name, sample_rate=16000):\n",
    "    fig, ax = plt.subplots()\n",
    "    ax.set_title('Raw wave of sound: ' + sound_name)\n",
    "    ax.set_ylabel('Amplitude')\n",
    "    ax.set_xlabel('Time')\n",
    "    ax.plot(np.linspace(0, sample_rate/len(audio_sample), sample_rate), audio_sample)"
   ]
  },
  {
   "cell_type": "code",
   "execution_count": 27,
   "metadata": {},
   "outputs": [
    {
     "data": {
      "image/png": "[encoded data removed]",
      "text/plain": [
       "<Figure size 432x288 with 1 Axes>"
      ]
     },
     "metadata": {
      "needs_background": "light"
     },
     "output_type": "display_data"
    }
   ],
   "source": [
    "plot_wave(x_train[0], sound_labels[0])"
   ]
  },
  {
   "cell_type": "markdown",
   "metadata": {},
   "source": [
    "The audio output consists of multiple waves of different frequencies all combined in one. To convert this into a usable format for our classifier we can use a mathematical technique called Fast Fourier transform which effectively converts the combined wave into a spectrum of its underlying frequencies.\n",
    "\n",
    "However, it is difficult to train our classifier using the full sampled audio wave as it is constantly changing through time. To simplify this we can make the assumption that a signal is statistically stationary in small time windows . So we can frame the signals in  20-40 ms windows and compute the fast Fourier transform over these windows. For frame lengths shorter than 20 ms we don't have enough samples to get a reliable spectral estimate, and for frame lengths longer than 40 ms the signal changes too much throughout the frame.  The number of samples in a 20 ms window of a signal of 16 khz is 16000 * 0.02 = 320. \n",
    "\n",
    "To make the transition between windows fluid some overlap of data is used i.e. a section of the data at the end of the last window is used in the next window. A frame step is used to select the intervals between the windows. A frame step of 10 milliseconds produces 160 samples between windows. \n",
    "\n",
    "A windowing function is used to get better resolution between the low and high points in the Fourier transform output. Basically, it is a function which you multiply with the data to reduce the impact of the data at the beginning and at the end on of the frame window. \n",
    "\n",
    "Taking the Fourier transform of all the windows produces a spectrogram. We can use the log of the spectrogram and use it to directly train our classifier. The log is taken because we don’t hear ‘volume on a linear scale. To increase the perceived volume of a sound requires a proportionally larger increase in energy. For example, doubling the perceived volume can require 8 times more energy (practicalcryptography, n.d.), so energy variations at a large volume sounds need to be quite significant to be perceived by the human ear. "
   ]
  },
  {
   "cell_type": "code",
   "execution_count": 42,
   "metadata": {},
   "outputs": [],
   "source": [
    "# the function produces log spectrogram representations of the sound files\n",
    "\n",
    "def log_specgram(audio, sample_rate, window_size=25,\n",
    "                 step_size=10, eps=1e-10):\n",
    "    \n",
    "    nperseg = int(round(window_size * sample_rate / 1e3))\n",
    "    noverlap = int(round(step_size * sample_rate / 1e3))\n",
    "    # get time, frequency and spectogram using signal.spectogram function\n",
    "    freqs, times, spec = signal.spectrogram(audio,\n",
    "                                    fs=sample_rate,\n",
    "                                    window='hann',\n",
    "                                    nperseg=nperseg,\n",
    "                                    noverlap=noverlap,\n",
    "                                    detrend=False)\n",
    "\n",
    "    \n",
    "    return freqs, times, np.log(spec.T.astype(np.float32) + eps)\n",
    "\n",
    "\n",
    "# the function plots the log spectrogram representations of the sound files\n",
    "\n",
    "def plot_spectogram(audio_sample, sound_name, sample_rate=16000):\n",
    "    samples = audio_sample\n",
    "    freqs, times, spectrogram = log_specgram(samples, sample_rate=16000)\n",
    "    fig, ax = plt.subplots()\n",
    "    ax.imshow(spectrogram.T, aspect='auto', origin='lower', \n",
    "           extent=[times.min(), times.max(), freqs.min(), freqs.max()])\n",
    "    \n",
    "    #set axis ticks\n",
    "    ax.set_yticks(freqs[::15])\n",
    "    ax.set_xticks(times[::15])\n",
    "    ax.set_title('Spectrogram of word: ' + sound_name)\n",
    "    ax.set_ylabel('Freqs in Hz')\n",
    "    ax.set_xlabel('Seconds')\n",
    "    \n",
    "    plt.show()"
   ]
  },
  {
   "cell_type": "code",
   "execution_count": 43,
   "metadata": {},
   "outputs": [],
   "source": [
    "sample_rate=16000\n",
    "spec = log_specgram(x_train[0], sample_rate, window_size=25,\n",
    "                 step_size=10, eps=1e-10)"
   ]
  },
  {
   "cell_type": "code",
   "execution_count": 44,
   "metadata": {},
   "outputs": [
    {
     "data": {
      "image/png": "[encoded data removed]",
      "text/plain": [
       "<Figure size 432x288 with 1 Axes>"
      ]
     },
     "metadata": {
      "needs_background": "light"
     },
     "output_type": "display_data"
    }
   ],
   "source": [
    "plot_spectogram(x_train[0], sound_labels[0])"
   ]
  },
  {
   "cell_type": "markdown",
   "metadata": {},
   "source": [
    "There is some further pre-processing which we can do to make the spectrogram further resemble how the human ear measures sounds. The cochlea can’t really distinguish the difference between two relatively similar frequencies. This effect becomes more pronounced as the frequencies increase. So we can bunch the spectrogram into various frequency ranges and calculate the amount of energy which exist in each range. We use triangular filters defined by the Mel scale to bunch these frequencies into 26 filterbanks. This produces 26 vectors of size equivalent to the number of spectrogram coefficient produced by the spectrogram. Each vector is mostly zeros but is non-zero for a certain section of the spectrum corresponding to its filterbank. The filters are not linear and get wider as the frequencies increase. We can then calculate the filterbank energies by multiplying each filterbank with the spectrogram and summing the values. We are now left with 26 numbers which signify the energy at each filterbank. We then take the log of the energies for the same reason given above. Then finally we apply a discrete cosine transform to decorrelate the energies. We can then take the lowest 13 coefficients which gives the Mel Frequency Cepstral Coefficients (MFCC) and these coefficients can be used to train the network. The librosa library has inbuilt functions to calculate this. "
   ]
  },
  {
   "cell_type": "code",
   "execution_count": 51,
   "metadata": {
    "colab": {},
    "colab_type": "code",
    "id": "VkwbfERd8rhY"
   },
   "outputs": [],
   "source": [
    "# function to generate mfcc representation of sound file\n",
    "def _to_mfcc(raw, sample_rate=16000, n_mels=128):\n",
    "    X = []\n",
    "\n",
    "    for r in raw:\n",
    "        S = librosa.feature.melspectrogram(r, sr=sample_rate, n_mels=128)\n",
    "        # Convert to log scale (dB). We'll use the peak power (max) as reference.\n",
    "        log_S = librosa.power_to_db(S, ref=np.max)\n",
    "        mfcc  = librosa.feature.mfcc(S=log_S, n_mfcc=13)\n",
    "\n",
    "        X += [mfcc]\n",
    "    \n",
    "    return np.array(X)\n",
    "\n",
    "# function to plot mfcc representation of sound file\n",
    "def plot_mfcc(audio_sample, sound_name, sample_rate=16000, n_mels=128):\n",
    "    samples = audio_sample\n",
    "    S = librosa.feature.melspectrogram(samples, sr=sample_rate, n_mels=n_mels)\n",
    "    log_S = librosa.power_to_db(S, ref=np.max)\n",
    "    librosa.display.specshow(log_S, sr=sample_rate, x_axis='time', y_axis='mel')\n",
    "\n",
    "    plt.title('Mel power spectrogram of sound: '+ sound_name)\n",
    "    plt.colorbar(format='%+02.0f dB')\n",
    "    plt.tight_layout()"
   ]
  },
  {
   "cell_type": "code",
   "execution_count": 52,
   "metadata": {
    "colab": {},
    "colab_type": "code",
    "id": "4Tj7MtS2b3IE"
   },
   "outputs": [
    {
     "data": {
      "image/png": "[encoded data removed]",
      "text/plain": [
       "<Figure size 432x288 with 2 Axes>"
      ]
     },
     "metadata": {
      "needs_background": "light"
     },
     "output_type": "display_data"
    }
   ],
   "source": [
    "# plot an example of \n",
    "plot_mfcc(x_train[0], sound_labels[0])"
   ]
  },
  {
   "cell_type": "code",
   "execution_count": 72,
   "metadata": {},
   "outputs": [],
   "source": [
    "# import IPython.display as ipd\n",
    "# ipd.Audio(x_train[0], rate=sample_rate)"
   ]
  },
  {
   "cell_type": "code",
   "execution_count": 60,
   "metadata": {},
   "outputs": [],
   "source": [
    "\n",
    "x_train_mfcc_trans = _to_mfcc(x_train, sample_rate=16000, n_mels=128)\n",
    "\n",
    "x_test_mfcc_trans = _to_mfcc(x_test, sample_rate=16000, n_mels=128)"
   ]
  },
  {
   "cell_type": "code",
   "execution_count": 63,
   "metadata": {},
   "outputs": [
    {
     "data": {
      "text/plain": [
       "(19417, 13, 32)"
      ]
     },
     "execution_count": 63,
     "metadata": {},
     "output_type": "execute_result"
    }
   ],
   "source": [
    "x_test_mfcc_trans.shape"
   ]
  },
  {
   "cell_type": "code",
   "execution_count": 74,
   "metadata": {},
   "outputs": [
    {
     "data": {
      "text/plain": [
       "(45304, 13, 32)"
      ]
     },
     "execution_count": 74,
     "metadata": {},
     "output_type": "execute_result"
    }
   ],
   "source": [
    "x_train_mfcc_trans.shape"
   ]
  },
  {
   "cell_type": "markdown",
   "metadata": {
    "colab_type": "text",
    "id": "wXh3b4roM_ZP"
   },
   "source": [
    "We will now create an RNN in keras to predict the sound from the mfcc inputs"
   ]
  },
  {
   "cell_type": "code",
   "execution_count": 66,
   "metadata": {
    "colab": {},
    "colab_type": "code",
    "id": "cpNg9LYe6HnD"
   },
   "outputs": [
    {
     "name": "stdout",
     "output_type": "stream",
     "text": [
      "WARNING:tensorflow:From C:\\Users\\soura\\Anaconda3\\lib\\site-packages\\tensorflow\\python\\framework\\op_def_library.py:263: colocate_with (from tensorflow.python.framework.ops) is deprecated and will be removed in a future version.\n",
      "Instructions for updating:\n",
      "Colocations handled automatically by placer.\n",
      "WARNING:tensorflow:From C:\\Users\\soura\\Anaconda3\\lib\\site-packages\\keras\\backend\\tensorflow_backend.py:3445: calling dropout (from tensorflow.python.ops.nn_ops) with keep_prob is deprecated and will be removed in a future version.\n",
      "Instructions for updating:\n",
      "Please use `rate` instead of `keep_prob`. Rate should be set to `rate = 1 - keep_prob`.\n"
     ]
    }
   ],
   "source": [
    "# create keras lstm model\n",
    "\n",
    "layers =  [keras.layers.InputLayer(X_t.shape[1:])]\n",
    "layers += [keras.layers.LSTM(252, return_sequences=1, dropout=0.3)]\n",
    "layers += [keras.layers.LSTM(252, return_sequences=0, dropout=0.3)]\n",
    "layers += [keras.layers.Dense(64, activation='relu')]\n",
    "layers += [keras.layers.Dropout(0.3)]\n",
    "layers += [keras.layers.Dense(y_train.shape[1], activation='softmax')]\n",
    "LSTM    = keras.Sequential(layers)     "
   ]
  },
  {
   "cell_type": "code",
   "execution_count": 67,
   "metadata": {
    "colab": {
     "base_uri": "https://localhost:8080/",
     "height": 306
    },
    "colab_type": "code",
    "id": "aB7WZVCu-R81",
    "outputId": "6005cd03-2906-47fc-d295-1fe7ebf64b13",
    "scrolled": true
   },
   "outputs": [
    {
     "name": "stdout",
     "output_type": "stream",
     "text": [
      "_________________________________________________________________\n",
      "Layer (type)                 Output Shape              Param #   \n",
      "=================================================================\n",
      "lstm_1 (LSTM)                (None, 13, 252)           287280    \n",
      "_________________________________________________________________\n",
      "lstm_2 (LSTM)                (None, 252)               509040    \n",
      "_________________________________________________________________\n",
      "dense_1 (Dense)              (None, 64)                16192     \n",
      "_________________________________________________________________\n",
      "dropout_1 (Dropout)          (None, 64)                0         \n",
      "_________________________________________________________________\n",
      "dense_2 (Dense)              (None, 30)                1950      \n",
      "=================================================================\n",
      "Total params: 814,462\n",
      "Trainable params: 814,462\n",
      "Non-trainable params: 0\n",
      "_________________________________________________________________\n"
     ]
    }
   ],
   "source": [
    "# summary of model\n",
    "LSTM.summary()"
   ]
  },
  {
   "cell_type": "code",
   "execution_count": 68,
   "metadata": {
    "colab": {},
    "colab_type": "code",
    "id": "cfAntcB6-nKL"
   },
   "outputs": [],
   "source": [
    "# compile model\n",
    "LSTM.compile(loss = keras.losses.categorical_crossentropy, optimizer = keras.optimizers.Adam(1e-3), metrics=['acc'])"
   ]
  },
  {
   "cell_type": "code",
   "execution_count": 69,
   "metadata": {
    "colab": {
     "base_uri": "https://localhost:8080/",
     "height": 374
    },
    "colab_type": "code",
    "id": "N_e4v_9u-_UJ",
    "outputId": "740bcbe0-24c6-4e21-de07-8ee5808d8a42",
    "scrolled": false
   },
   "outputs": [
    {
     "name": "stdout",
     "output_type": "stream",
     "text": [
      "WARNING:tensorflow:From C:\\Users\\soura\\Anaconda3\\lib\\site-packages\\tensorflow\\python\\ops\\math_ops.py:3066: to_int32 (from tensorflow.python.ops.math_ops) is deprecated and will be removed in a future version.\n",
      "Instructions for updating:\n",
      "Use tf.cast instead.\n",
      "Train on 45304 samples, validate on 19417 samples\n",
      "Epoch 1/150\n",
      "45304/45304 [==============================] - 54s 1ms/step - loss: 3.3885 - acc: 0.0451 - val_loss: 3.3361 - val_acc: 0.0703\n",
      "Epoch 2/150\n",
      "45304/45304 [==============================] - 63s 1ms/step - loss: 3.3391 - acc: 0.0649 - val_loss: 3.2169 - val_acc: 0.1043\n",
      "Epoch 3/150\n",
      "45304/45304 [==============================] - 58s 1ms/step - loss: 3.2118 - acc: 0.0951 - val_loss: 2.9095 - val_acc: 0.1685\n",
      "Epoch 4/150\n",
      "45304/45304 [==============================] - 52s 1ms/step - loss: 3.0002 - acc: 0.1435 - val_loss: 2.6023 - val_acc: 0.2393\n",
      "Epoch 5/150\n",
      "45304/45304 [==============================] - 53s 1ms/step - loss: 2.7625 - acc: 0.1996 - val_loss: 2.3331 - val_acc: 0.3186\n",
      "Epoch 6/150\n",
      "45304/45304 [==============================] - 53s 1ms/step - loss: 2.5495 - acc: 0.2526 - val_loss: 2.0893 - val_acc: 0.3944\n",
      "Epoch 7/150\n",
      "45304/45304 [==============================] - 53s 1ms/step - loss: 2.3507 - acc: 0.3072 - val_loss: 1.8719 - val_acc: 0.4521\n",
      "Epoch 8/150\n",
      "45304/45304 [==============================] - 53s 1ms/step - loss: 2.1887 - acc: 0.3529 - val_loss: 1.7372 - val_acc: 0.4885\n",
      "Epoch 9/150\n",
      "45304/45304 [==============================] - 53s 1ms/step - loss: 2.0437 - acc: 0.3949 - val_loss: 1.5977 - val_acc: 0.5319\n",
      "Epoch 10/150\n",
      "45304/45304 [==============================] - 54s 1ms/step - loss: 1.9020 - acc: 0.4382 - val_loss: 1.4945 - val_acc: 0.5582\n",
      "Epoch 11/150\n",
      "45304/45304 [==============================] - 53s 1ms/step - loss: 1.8018 - acc: 0.4646 - val_loss: 1.4059 - val_acc: 0.5878\n",
      "Epoch 12/150\n",
      "45304/45304 [==============================] - 54s 1ms/step - loss: 1.6959 - acc: 0.4975 - val_loss: 1.3155 - val_acc: 0.6065\n",
      "Epoch 13/150\n",
      "45304/45304 [==============================] - 54s 1ms/step - loss: 1.6155 - acc: 0.5199 - val_loss: 1.2833 - val_acc: 0.6182\n",
      "Epoch 14/150\n",
      "45304/45304 [==============================] - 54s 1ms/step - loss: 1.5329 - acc: 0.5446 - val_loss: 1.1805 - val_acc: 0.6456\n",
      "Epoch 15/150\n",
      "45304/45304 [==============================] - 55s 1ms/step - loss: 1.4656 - acc: 0.5649 - val_loss: 1.1596 - val_acc: 0.6554\n",
      "Epoch 16/150\n",
      "45304/45304 [==============================] - 54s 1ms/step - loss: 1.4087 - acc: 0.5811 - val_loss: 1.1067 - val_acc: 0.6682\n",
      "Epoch 17/150\n",
      "45304/45304 [==============================] - 54s 1ms/step - loss: 1.3586 - acc: 0.5944 - val_loss: 1.0493 - val_acc: 0.6864\n",
      "Epoch 18/150\n",
      "45304/45304 [==============================] - 54s 1ms/step - loss: 1.3133 - acc: 0.6092 - val_loss: 1.0257 - val_acc: 0.6919\n",
      "Epoch 19/150\n",
      "45304/45304 [==============================] - 54s 1ms/step - loss: 1.2639 - acc: 0.6260 - val_loss: 1.0072 - val_acc: 0.6952\n",
      "Epoch 20/150\n",
      "45304/45304 [==============================] - 55s 1ms/step - loss: 1.2291 - acc: 0.6326 - val_loss: 0.9537 - val_acc: 0.7151\n",
      "Epoch 21/150\n",
      "45304/45304 [==============================] - 54s 1ms/step - loss: 1.1865 - acc: 0.6463 - val_loss: 0.9618 - val_acc: 0.7133\n",
      "Epoch 22/150\n",
      "45304/45304 [==============================] - 55s 1ms/step - loss: 1.1574 - acc: 0.6549 - val_loss: 0.9083 - val_acc: 0.7282\n",
      "Epoch 23/150\n",
      "45304/45304 [==============================] - 55s 1ms/step - loss: 1.1233 - acc: 0.6643 - val_loss: 0.8944 - val_acc: 0.7308\n",
      "Epoch 24/150\n",
      "45304/45304 [==============================] - 55s 1ms/step - loss: 1.1103 - acc: 0.6702 - val_loss: 0.8833 - val_acc: 0.7322\n",
      "Epoch 25/150\n",
      "45304/45304 [==============================] - 55s 1ms/step - loss: 1.0716 - acc: 0.6800 - val_loss: 0.8652 - val_acc: 0.7402\n",
      "Epoch 26/150\n",
      "45304/45304 [==============================] - 55s 1ms/step - loss: 1.0435 - acc: 0.6856 - val_loss: 0.8262 - val_acc: 0.7507\n",
      "Epoch 27/150\n",
      "45304/45304 [==============================] - 55s 1ms/step - loss: 1.0192 - acc: 0.6931 - val_loss: 0.8257 - val_acc: 0.7520\n",
      "Epoch 28/150\n",
      "45304/45304 [==============================] - 55s 1ms/step - loss: 0.9947 - acc: 0.7032 - val_loss: 0.8534 - val_acc: 0.7456\n",
      "Epoch 29/150\n",
      "45304/45304 [==============================] - 55s 1ms/step - loss: 0.9856 - acc: 0.7040 - val_loss: 0.8117 - val_acc: 0.7582\n",
      "Epoch 30/150\n",
      "45304/45304 [==============================] - 55s 1ms/step - loss: 0.9495 - acc: 0.7144 - val_loss: 0.8117 - val_acc: 0.7582\n",
      "Epoch 31/150\n",
      "45304/45304 [==============================] - 55s 1ms/step - loss: 0.9424 - acc: 0.7169 - val_loss: 0.7799 - val_acc: 0.7649\n",
      "Epoch 32/150\n",
      "45304/45304 [==============================] - 56s 1ms/step - loss: 0.9234 - acc: 0.7232 - val_loss: 0.7660 - val_acc: 0.7738\n",
      "Epoch 33/150\n",
      "45304/45304 [==============================] - 56s 1ms/step - loss: 0.9002 - acc: 0.7301 - val_loss: 0.7637 - val_acc: 0.7737\n",
      "Epoch 34/150\n",
      "45304/45304 [==============================] - 56s 1ms/step - loss: 0.8748 - acc: 0.7368 - val_loss: 0.7326 - val_acc: 0.7818\n",
      "Epoch 35/150\n",
      "45304/45304 [==============================] - 56s 1ms/step - loss: 0.8652 - acc: 0.7387 - val_loss: 0.7388 - val_acc: 0.7788\n",
      "Epoch 36/150\n",
      "45304/45304 [==============================] - 56s 1ms/step - loss: 0.8533 - acc: 0.7423 - val_loss: 0.7540 - val_acc: 0.7729\n",
      "Epoch 37/150\n",
      "45304/45304 [==============================] - 56s 1ms/step - loss: 0.8347 - acc: 0.7492 - val_loss: 0.7265 - val_acc: 0.7818\n",
      "Epoch 38/150\n",
      "45304/45304 [==============================] - 55s 1ms/step - loss: 0.8233 - acc: 0.7522 - val_loss: 0.7189 - val_acc: 0.7860\n",
      "Epoch 39/150\n",
      "45304/45304 [==============================] - 56s 1ms/step - loss: 0.8045 - acc: 0.7581 - val_loss: 0.7124 - val_acc: 0.7885\n",
      "Epoch 40/150\n",
      "45304/45304 [==============================] - 55s 1ms/step - loss: 0.7987 - acc: 0.7581 - val_loss: 0.7102 - val_acc: 0.7898\n",
      "Epoch 41/150\n",
      "45304/45304 [==============================] - 56s 1ms/step - loss: 0.7778 - acc: 0.7648 - val_loss: 0.7061 - val_acc: 0.7911\n",
      "Epoch 42/150\n",
      "45304/45304 [==============================] - 56s 1ms/step - loss: 0.7577 - acc: 0.7719 - val_loss: 0.6995 - val_acc: 0.7934\n",
      "Epoch 43/150\n",
      "45304/45304 [==============================] - 57s 1ms/step - loss: 0.7535 - acc: 0.7747 - val_loss: 0.6889 - val_acc: 0.7955\n",
      "Epoch 44/150\n",
      "45304/45304 [==============================] - 59s 1ms/step - loss: 0.7414 - acc: 0.7753 - val_loss: 0.7073 - val_acc: 0.7916\n",
      "Epoch 45/150\n",
      "45304/45304 [==============================] - 59s 1ms/step - loss: 0.7392 - acc: 0.7765 - val_loss: 0.6942 - val_acc: 0.7940\n",
      "Epoch 46/150\n",
      "45304/45304 [==============================] - 56s 1ms/step - loss: 0.7209 - acc: 0.7819 - val_loss: 0.6737 - val_acc: 0.8015\n",
      "Epoch 47/150\n",
      "45304/45304 [==============================] - 55s 1ms/step - loss: 0.7164 - acc: 0.7829 - val_loss: 0.6938 - val_acc: 0.7984\n",
      "Epoch 48/150\n",
      "45304/45304 [==============================] - 56s 1ms/step - loss: 0.7006 - acc: 0.7880 - val_loss: 0.6788 - val_acc: 0.8005\n",
      "Epoch 49/150\n",
      "45304/45304 [==============================] - 56s 1ms/step - loss: 0.7010 - acc: 0.7884 - val_loss: 0.6572 - val_acc: 0.8065\n",
      "Epoch 50/150\n",
      "45304/45304 [==============================] - 57s 1ms/step - loss: 0.6882 - acc: 0.7899 - val_loss: 0.6711 - val_acc: 0.8039\n",
      "Epoch 51/150\n",
      "45304/45304 [==============================] - 56s 1ms/step - loss: 0.6824 - acc: 0.7940 - val_loss: 0.6431 - val_acc: 0.8118\n",
      "Epoch 52/150\n",
      "45304/45304 [==============================] - 56s 1ms/step - loss: 0.6636 - acc: 0.7981 - val_loss: 0.6570 - val_acc: 0.8082\n",
      "Epoch 53/150\n",
      "45304/45304 [==============================] - 57s 1ms/step - loss: 0.6535 - acc: 0.7999 - val_loss: 0.6556 - val_acc: 0.8133\n",
      "Epoch 54/150\n",
      "45304/45304 [==============================] - 56s 1ms/step - loss: 0.6423 - acc: 0.8045 - val_loss: 0.6496 - val_acc: 0.8116\n",
      "Epoch 55/150\n",
      "45304/45304 [==============================] - 56s 1ms/step - loss: 0.6372 - acc: 0.8041 - val_loss: 0.6573 - val_acc: 0.8103\n",
      "Epoch 56/150\n",
      "45304/45304 [==============================] - 58s 1ms/step - loss: 0.6374 - acc: 0.8068 - val_loss: 0.6458 - val_acc: 0.8132\n",
      "Epoch 57/150\n",
      "45304/45304 [==============================] - 70s 2ms/step - loss: 0.6237 - acc: 0.8091 - val_loss: 0.6411 - val_acc: 0.8139\n"
     ]
    },
    {
     "name": "stdout",
     "output_type": "stream",
     "text": [
      "Epoch 58/150\n",
      "45304/45304 [==============================] - 66s 1ms/step - loss: 0.6137 - acc: 0.8133 - val_loss: 0.6580 - val_acc: 0.8091\n",
      "Epoch 59/150\n",
      "45304/45304 [==============================] - 57s 1ms/step - loss: 0.6085 - acc: 0.8148 - val_loss: 0.6411 - val_acc: 0.8122\n",
      "Epoch 60/150\n",
      "45304/45304 [==============================] - 55s 1ms/step - loss: 0.5994 - acc: 0.8174 - val_loss: 0.6406 - val_acc: 0.8150\n",
      "Epoch 61/150\n",
      "45304/45304 [==============================] - 56s 1ms/step - loss: 0.5899 - acc: 0.8195 - val_loss: 0.6402 - val_acc: 0.8140\n",
      "Epoch 62/150\n",
      "45304/45304 [==============================] - 57s 1ms/step - loss: 0.5777 - acc: 0.8228 - val_loss: 0.6331 - val_acc: 0.8169\n",
      "Epoch 63/150\n",
      "45304/45304 [==============================] - 59s 1ms/step - loss: 0.5769 - acc: 0.8234 - val_loss: 0.6403 - val_acc: 0.8158\n",
      "Epoch 64/150\n",
      "45304/45304 [==============================] - 59s 1ms/step - loss: 0.5788 - acc: 0.8243 - val_loss: 0.6231 - val_acc: 0.8206\n",
      "Epoch 65/150\n",
      "45304/45304 [==============================] - 56s 1ms/step - loss: 0.5633 - acc: 0.8281 - val_loss: 0.6320 - val_acc: 0.8192\n",
      "Epoch 66/150\n",
      "45304/45304 [==============================] - 58s 1ms/step - loss: 0.5586 - acc: 0.8274 - val_loss: 0.6355 - val_acc: 0.8186\n",
      "Epoch 67/150\n",
      "45304/45304 [==============================] - 56s 1ms/step - loss: 0.5455 - acc: 0.8315 - val_loss: 0.6417 - val_acc: 0.8170\n",
      "Epoch 68/150\n",
      "45304/45304 [==============================] - 57s 1ms/step - loss: 0.5442 - acc: 0.8344 - val_loss: 0.6229 - val_acc: 0.8236\n",
      "Epoch 69/150\n",
      "45304/45304 [==============================] - 57s 1ms/step - loss: 0.5323 - acc: 0.8372 - val_loss: 0.6315 - val_acc: 0.8196\n",
      "Epoch 70/150\n",
      "45304/45304 [==============================] - 57s 1ms/step - loss: 0.5298 - acc: 0.8379 - val_loss: 0.6349 - val_acc: 0.8206\n",
      "Epoch 71/150\n",
      "45304/45304 [==============================] - 56s 1ms/step - loss: 0.5241 - acc: 0.8381 - val_loss: 0.6454 - val_acc: 0.8202\n",
      "Epoch 72/150\n",
      "45304/45304 [==============================] - 56s 1ms/step - loss: 0.5145 - acc: 0.8407 - val_loss: 0.6271 - val_acc: 0.8245\n",
      "Epoch 73/150\n",
      "45304/45304 [==============================] - 56s 1ms/step - loss: 0.5085 - acc: 0.8426 - val_loss: 0.6194 - val_acc: 0.8256\n",
      "Epoch 74/150\n",
      "45304/45304 [==============================] - 56s 1ms/step - loss: 0.5089 - acc: 0.8433 - val_loss: 0.6296 - val_acc: 0.8232\n",
      "Epoch 75/150\n",
      "45304/45304 [==============================] - 61s 1ms/step - loss: 0.5137 - acc: 0.8424 - val_loss: 0.6213 - val_acc: 0.8247\n",
      "Epoch 76/150\n",
      "45304/45304 [==============================] - 60s 1ms/step - loss: 0.4917 - acc: 0.8490 - val_loss: 0.6299 - val_acc: 0.8226\n",
      "Epoch 77/150\n",
      "45304/45304 [==============================] - 57s 1ms/step - loss: 0.4915 - acc: 0.8487 - val_loss: 0.6391 - val_acc: 0.8245\n",
      "Epoch 78/150\n",
      "45304/45304 [==============================] - 57s 1ms/step - loss: 0.4887 - acc: 0.8496 - val_loss: 0.6356 - val_acc: 0.8263\n",
      "Epoch 79/150\n",
      "45304/45304 [==============================] - 58s 1ms/step - loss: 0.4842 - acc: 0.8508 - val_loss: 0.6374 - val_acc: 0.8221\n",
      "Epoch 80/150\n",
      "45304/45304 [==============================] - 62s 1ms/step - loss: 0.4834 - acc: 0.8499 - val_loss: 0.6343 - val_acc: 0.8228\n",
      "Epoch 81/150\n",
      "45304/45304 [==============================] - 69s 2ms/step - loss: 0.4757 - acc: 0.8522 - val_loss: 0.6302 - val_acc: 0.8246\n",
      "Epoch 82/150\n",
      "45304/45304 [==============================] - 61s 1ms/step - loss: 0.4704 - acc: 0.8544 - val_loss: 0.6256 - val_acc: 0.8263\n",
      "Epoch 83/150\n",
      "45304/45304 [==============================] - 59s 1ms/step - loss: 0.4645 - acc: 0.8553 - val_loss: 0.6349 - val_acc: 0.8220\n",
      "Epoch 84/150\n",
      "45304/45304 [==============================] - 60s 1ms/step - loss: 0.4632 - acc: 0.8558 - val_loss: 0.6306 - val_acc: 0.8258\n",
      "Epoch 85/150\n",
      "45304/45304 [==============================] - 60s 1ms/step - loss: 0.4597 - acc: 0.8579 - val_loss: 0.6300 - val_acc: 0.8243\n",
      "Epoch 86/150\n",
      "45304/45304 [==============================] - 60s 1ms/step - loss: 0.4623 - acc: 0.8560 - val_loss: 0.6324 - val_acc: 0.8248\n",
      "Epoch 87/150\n",
      "45304/45304 [==============================] - 61s 1ms/step - loss: 0.4473 - acc: 0.8607 - val_loss: 0.6286 - val_acc: 0.8292\n",
      "Epoch 88/150\n",
      "45304/45304 [==============================] - 60s 1ms/step - loss: 0.4414 - acc: 0.8637 - val_loss: 0.6224 - val_acc: 0.8295\n",
      "Epoch 89/150\n",
      "45304/45304 [==============================] - 60s 1ms/step - loss: 0.4461 - acc: 0.8601 - val_loss: 0.6506 - val_acc: 0.8228\n",
      "Epoch 90/150\n",
      "45304/45304 [==============================] - 60s 1ms/step - loss: 0.4331 - acc: 0.8663 - val_loss: 0.6329 - val_acc: 0.8267\n",
      "Epoch 91/150\n",
      "45304/45304 [==============================] - 60s 1ms/step - loss: 0.4240 - acc: 0.8691 - val_loss: 0.6233 - val_acc: 0.8299\n",
      "Epoch 92/150\n",
      "45304/45304 [==============================] - 61s 1ms/step - loss: 0.4317 - acc: 0.8666 - val_loss: 0.6319 - val_acc: 0.8298\n",
      "Epoch 93/150\n",
      "45304/45304 [==============================] - 60s 1ms/step - loss: 0.4183 - acc: 0.8683 - val_loss: 0.6219 - val_acc: 0.8300\n",
      "Epoch 94/150\n",
      "45304/45304 [==============================] - 60s 1ms/step - loss: 0.4195 - acc: 0.8680 - val_loss: 0.6192 - val_acc: 0.8302\n",
      "Epoch 95/150\n",
      "45304/45304 [==============================] - 60s 1ms/step - loss: 0.4148 - acc: 0.8703 - val_loss: 0.6355 - val_acc: 0.8296\n",
      "Epoch 96/150\n",
      "45304/45304 [==============================] - 61s 1ms/step - loss: 0.4136 - acc: 0.8715 - val_loss: 0.6349 - val_acc: 0.8290\n",
      "Epoch 97/150\n",
      "45304/45304 [==============================] - 63s 1ms/step - loss: 0.4038 - acc: 0.8737 - val_loss: 0.6292 - val_acc: 0.8321\n",
      "Epoch 98/150\n",
      "45304/45304 [==============================] - 62s 1ms/step - loss: 0.4039 - acc: 0.8736 - val_loss: 0.6321 - val_acc: 0.8306\n",
      "Epoch 99/150\n",
      "45304/45304 [==============================] - 62s 1ms/step - loss: 0.3964 - acc: 0.8753 - val_loss: 0.6170 - val_acc: 0.8357\n",
      "Epoch 100/150\n",
      "45304/45304 [==============================] - 63s 1ms/step - loss: 0.3912 - acc: 0.8792 - val_loss: 0.6387 - val_acc: 0.8302\n",
      "Epoch 101/150\n",
      "45304/45304 [==============================] - 61s 1ms/step - loss: 0.3929 - acc: 0.8774 - val_loss: 0.6405 - val_acc: 0.8308\n",
      "Epoch 102/150\n",
      "45304/45304 [==============================] - 59s 1ms/step - loss: 0.3949 - acc: 0.8765 - val_loss: 0.6272 - val_acc: 0.8347\n",
      "Epoch 103/150\n",
      "45304/45304 [==============================] - 60s 1ms/step - loss: 0.3896 - acc: 0.8775 - val_loss: 0.6454 - val_acc: 0.8302\n",
      "Epoch 104/150\n",
      "45304/45304 [==============================] - 60s 1ms/step - loss: 0.3797 - acc: 0.8804 - val_loss: 0.6430 - val_acc: 0.8300\n",
      "Epoch 105/150\n",
      "45304/45304 [==============================] - 59s 1ms/step - loss: 0.3811 - acc: 0.8807 - val_loss: 0.6453 - val_acc: 0.8304\n",
      "Epoch 106/150\n",
      "45304/45304 [==============================] - 60s 1ms/step - loss: 0.3851 - acc: 0.8799 - val_loss: 0.6377 - val_acc: 0.8337\n",
      "Epoch 107/150\n",
      "45304/45304 [==============================] - 60s 1ms/step - loss: 0.3710 - acc: 0.8841 - val_loss: 0.6427 - val_acc: 0.8310\n",
      "Epoch 108/150\n",
      "45304/45304 [==============================] - 61s 1ms/step - loss: 0.3739 - acc: 0.8823 - val_loss: 0.6481 - val_acc: 0.8324\n",
      "Epoch 109/150\n",
      "45304/45304 [==============================] - 61s 1ms/step - loss: 0.3669 - acc: 0.8852 - val_loss: 0.6539 - val_acc: 0.8323\n",
      "Epoch 110/150\n",
      "45304/45304 [==============================] - 60s 1ms/step - loss: 0.3579 - acc: 0.8868 - val_loss: 0.6403 - val_acc: 0.8333\n",
      "Epoch 111/150\n",
      "45304/45304 [==============================] - 62s 1ms/step - loss: 0.3573 - acc: 0.8872 - val_loss: 0.6390 - val_acc: 0.8345\n",
      "Epoch 112/150\n",
      "45304/45304 [==============================] - 61s 1ms/step - loss: 0.3617 - acc: 0.8867 - val_loss: 0.6510 - val_acc: 0.8303\n",
      "Epoch 113/150\n",
      "45304/45304 [==============================] - 62s 1ms/step - loss: 0.3540 - acc: 0.8896 - val_loss: 0.6395 - val_acc: 0.8353\n",
      "Epoch 114/150\n",
      "45304/45304 [==============================] - 66s 1ms/step - loss: 0.3526 - acc: 0.8896 - val_loss: 0.6535 - val_acc: 0.8314\n",
      "Epoch 115/150\n",
      "45304/45304 [==============================] - 64s 1ms/step - loss: 0.3579 - acc: 0.8884 - val_loss: 0.6505 - val_acc: 0.8316\n",
      "Epoch 116/150\n",
      "45304/45304 [==============================] - 62s 1ms/step - loss: 0.3422 - acc: 0.8923 - val_loss: 0.6596 - val_acc: 0.8306\n"
     ]
    },
    {
     "name": "stdout",
     "output_type": "stream",
     "text": [
      "Epoch 117/150\n",
      "45304/45304 [==============================] - 63s 1ms/step - loss: 0.3473 - acc: 0.8910 - val_loss: 0.6549 - val_acc: 0.8295\n",
      "Epoch 118/150\n",
      "45304/45304 [==============================] - 66s 1ms/step - loss: 0.3430 - acc: 0.8922 - val_loss: 0.6485 - val_acc: 0.8333\n",
      "Epoch 119/150\n",
      "45304/45304 [==============================] - 64s 1ms/step - loss: 0.3374 - acc: 0.8922 - val_loss: 0.6517 - val_acc: 0.8315\n",
      "Epoch 120/150\n",
      "45304/45304 [==============================] - 62s 1ms/step - loss: 0.3388 - acc: 0.8923 - val_loss: 0.6433 - val_acc: 0.8343\n",
      "Epoch 121/150\n",
      "45304/45304 [==============================] - 63s 1ms/step - loss: 0.3351 - acc: 0.8957 - val_loss: 0.6515 - val_acc: 0.8343\n",
      "Epoch 122/150\n",
      "45304/45304 [==============================] - 63s 1ms/step - loss: 0.3394 - acc: 0.8937 - val_loss: 0.6506 - val_acc: 0.8313\n",
      "Epoch 123/150\n",
      "45304/45304 [==============================] - 62s 1ms/step - loss: 0.3343 - acc: 0.8949 - val_loss: 0.6645 - val_acc: 0.8320\n",
      "Epoch 124/150\n",
      "45304/45304 [==============================] - 62s 1ms/step - loss: 0.3270 - acc: 0.8966 - val_loss: 0.6623 - val_acc: 0.8306\n",
      "Epoch 125/150\n",
      "45304/45304 [==============================] - 62s 1ms/step - loss: 0.3287 - acc: 0.8947 - val_loss: 0.6526 - val_acc: 0.8350\n",
      "Epoch 126/150\n",
      "45304/45304 [==============================] - 63s 1ms/step - loss: 0.3272 - acc: 0.8968 - val_loss: 0.6550 - val_acc: 0.8357\n",
      "Epoch 127/150\n",
      "45304/45304 [==============================] - 62s 1ms/step - loss: 0.3133 - acc: 0.9012 - val_loss: 0.6630 - val_acc: 0.8335\n",
      "Epoch 128/150\n",
      "45304/45304 [==============================] - 64s 1ms/step - loss: 0.3223 - acc: 0.8985 - val_loss: 0.6528 - val_acc: 0.8361\n",
      "Epoch 129/150\n",
      "45304/45304 [==============================] - 62s 1ms/step - loss: 0.3180 - acc: 0.8996 - val_loss: 0.6616 - val_acc: 0.8324\n",
      "Epoch 130/150\n",
      "45304/45304 [==============================] - 63s 1ms/step - loss: 0.3152 - acc: 0.8999 - val_loss: 0.6763 - val_acc: 0.8321\n",
      "Epoch 131/150\n",
      "45304/45304 [==============================] - 62s 1ms/step - loss: 0.3080 - acc: 0.9030 - val_loss: 0.6676 - val_acc: 0.8339\n",
      "Epoch 132/150\n",
      "45304/45304 [==============================] - 63s 1ms/step - loss: 0.3087 - acc: 0.9027 - val_loss: 0.6734 - val_acc: 0.8369\n",
      "Epoch 133/150\n",
      "45304/45304 [==============================] - 64s 1ms/step - loss: 0.3036 - acc: 0.9031 - val_loss: 0.6630 - val_acc: 0.8365\n",
      "Epoch 134/150\n",
      "45304/45304 [==============================] - 66s 1ms/step - loss: 0.3118 - acc: 0.9010 - val_loss: 0.6645 - val_acc: 0.8362\n",
      "Epoch 135/150\n",
      "45304/45304 [==============================] - 66s 1ms/step - loss: 0.3020 - acc: 0.9040 - val_loss: 0.6525 - val_acc: 0.8381\n",
      "Epoch 136/150\n",
      "45304/45304 [==============================] - 62s 1ms/step - loss: 0.3040 - acc: 0.9042 - val_loss: 0.6603 - val_acc: 0.8333\n",
      "Epoch 137/150\n",
      "45304/45304 [==============================] - 63s 1ms/step - loss: 0.3028 - acc: 0.9037 - val_loss: 0.6607 - val_acc: 0.8328\n",
      "Epoch 138/150\n",
      "45304/45304 [==============================] - 63s 1ms/step - loss: 0.2903 - acc: 0.9086 - val_loss: 0.6543 - val_acc: 0.8355\n",
      "Epoch 139/150\n",
      "45304/45304 [==============================] - 62s 1ms/step - loss: 0.2870 - acc: 0.9108 - val_loss: 0.6539 - val_acc: 0.8360\n",
      "Epoch 140/150\n",
      "45304/45304 [==============================] - 64s 1ms/step - loss: 0.2850 - acc: 0.9108 - val_loss: 0.6607 - val_acc: 0.8380\n",
      "Epoch 141/150\n",
      "45304/45304 [==============================] - 67s 1ms/step - loss: 0.2884 - acc: 0.9096 - val_loss: 0.6721 - val_acc: 0.8341\n",
      "Epoch 142/150\n",
      "45304/45304 [==============================] - 58s 1ms/step - loss: 0.2852 - acc: 0.9097 - val_loss: 0.6661 - val_acc: 0.8366\n",
      "Epoch 143/150\n",
      "45304/45304 [==============================] - 57s 1ms/step - loss: 0.2842 - acc: 0.9107 - val_loss: 0.6867 - val_acc: 0.8332\n",
      "Epoch 144/150\n",
      "45304/45304 [==============================] - 64s 1ms/step - loss: 0.2830 - acc: 0.9100 - val_loss: 0.6775 - val_acc: 0.8366\n",
      "Epoch 145/150\n",
      "45304/45304 [==============================] - 58s 1ms/step - loss: 0.2757 - acc: 0.9127 - val_loss: 0.6767 - val_acc: 0.8375\n",
      "Epoch 146/150\n",
      "45304/45304 [==============================] - 56s 1ms/step - loss: 0.2783 - acc: 0.9121 - val_loss: 0.6731 - val_acc: 0.8374\n",
      "Epoch 147/150\n",
      "45304/45304 [==============================] - 64s 1ms/step - loss: 0.2759 - acc: 0.9124 - val_loss: 0.6821 - val_acc: 0.8345\n",
      "Epoch 148/150\n",
      "45304/45304 [==============================] - 62s 1ms/step - loss: 0.2693 - acc: 0.9137 - val_loss: 0.6896 - val_acc: 0.8327\n",
      "Epoch 149/150\n",
      "45304/45304 [==============================] - 62s 1ms/step - loss: 0.2723 - acc: 0.9138 - val_loss: 0.6884 - val_acc: 0.8338\n",
      "Epoch 150/150\n",
      "45304/45304 [==============================] - 64s 1ms/step - loss: 0.2676 - acc: 0.9168 - val_loss: 0.6812 - val_acc: 0.8369\n"
     ]
    }
   ],
   "source": [
    "# fit data to the model\n",
    "LSTM_hist = LSTM.fit(x_train_mfcc_trans, y_train, validation_data = (x_test_mfcc_trans, y_test), epochs = 150, batch_size=2048, verbose=1)"
   ]
  },
  {
   "cell_type": "code",
   "execution_count": 87,
   "metadata": {},
   "outputs": [
    {
     "data": {
      "text/plain": [
       "Text(0.5, 0, 'epochs')"
      ]
     },
     "execution_count": 87,
     "metadata": {},
     "output_type": "execute_result"
    },
    {
     "data": {
      "image/png": "[encoded data removed]",
      "text/plain": [
       "<Figure size 432x288 with 1 Axes>"
      ]
     },
     "metadata": {
      "needs_background": "light"
     },
     "output_type": "display_data"
    }
   ],
   "source": [
    "# get test accuracy from history dictionary\n",
    "testAccRnn = np.array(LSTM_hist.history['val_acc'])\n",
    "\n",
    "# plot test accuracy\n",
    "fig = plt.figure()\n",
    "plt.plot(range(len(testAccRnn)),(testAccRnn*100))\n",
    "plt.title('network accuracy')\n",
    "plt.ylabel('accuracy %')\n",
    "plt.xlabel('epochs')"
   ]
  },
  {
   "cell_type": "code",
   "execution_count": 106,
   "metadata": {},
   "outputs": [
    {
     "name": "stdout",
     "output_type": "stream",
     "text": [
      "predicted sound: no\n",
      "actual sound: no\n"
     ]
    }
   ],
   "source": [
    "# check model on random sound in test set\n",
    "import random\n",
    "randI = random.randint(0, len(x_test_mfcc_trans))\n",
    "\n",
    "# predict for random test entry\n",
    "ypred = LSTM.predict(x_test_mfcc_trans[randI:(randI+1)])\n",
    "\n",
    "# print prediction\n",
    "print('predicted sound:',sounds[np.where(ypred[0]==np.max(ypred[0]))[0][0]])\n",
    "print('actual sound:',sounds[np.where(y_test[randI]==np.max(y_test[randI]))[0][0]])"
   ]
  }
 ],
 "metadata": {
  "accelerator": "GPU",
  "colab": {
   "collapsed_sections": [],
   "name": "speech_recognition_v2.ipynb",
   "provenance": [],
   "version": "0.3.2"
  },
  "kernelspec": {
   "display_name": "Python 3",
   "language": "python",
   "name": "python3"
  },
  "language_info": {
   "codemirror_mode": {
    "name": "ipython",
    "version": 3
   },
   "file_extension": ".py",
   "mimetype": "text/x-python",
   "name": "python",
   "nbconvert_exporter": "python",
   "pygments_lexer": "ipython3",
   "version": "3.7.1"
  }
 },
 "nbformat": 4,
 "nbformat_minor": 1
}
